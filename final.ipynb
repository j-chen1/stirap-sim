{
 "cells": [
  {
   "cell_type": "markdown",
   "id": "7c342f1b-53a5-4e5c-b1f3-f41241a5f287",
   "metadata": {},
   "source": [
    "# 138 Final Project (Sp 25)\n",
    "- By Jenny Chen"
   ]
  },
  {
   "cell_type": "code",
   "execution_count": 1,
   "id": "02c5e48e-06c6-41af-bb00-d1b7c73ca1af",
   "metadata": {},
   "outputs": [],
   "source": [
    "import numpy as np\n",
    "import qutip as qt\n",
    "import math\n",
    "import scipy\n",
    "import matplotlib.pyplot as plt\n",
    "import scienceplots as splt\n",
    "from matplotlib.gridspec import GridSpec\n",
    "import matplotlib.gridspec as gridspec\n",
    "from scipy.constants import *"
   ]
  },
  {
   "cell_type": "code",
   "execution_count": 2,
   "id": "8c589243-1866-4b03-8880-a6a25b4181eb",
   "metadata": {},
   "outputs": [],
   "source": [
    "plt.style.use('science')\n",
    "prop_cycle = plt.rcParams['axes.prop_cycle']\n",
    "colors = prop_cycle.by_key()['color']"
   ]
  },
  {
   "attachments": {},
   "cell_type": "markdown",
   "id": "22793106-4b4a-477a-a8c8-813982533ee1",
   "metadata": {},
   "source": [
    "# STIRAP\n",
    "- Derivations are done in the rotating frame (RWA)\n",
    "- The goal is to adiabatically drive the system from $\\psi_1$ to $\\psi_3$ without losing any population to $\\psi_2$, which can radiatively decay to inaccessible states through spontaneous emission\n",
    "\n",
    "$$H = \\hbar \\begin{pmatrix}\n",
    "0 & \\frac{1}{2}\\Omega_p(t) & 0\\\\\n",
    "\\frac{1}{2}\\Omega_p(t) & \\Delta_p & \\frac{1}{2}\\Omega_s(t)\\\\\n",
    "0 & \\frac{1}{2}\\Omega_s(t) & \\Delta_p - \\Delta_s\\\\\n",
    "\\end{pmatrix}$$\n",
    "- The ideal pulse sequence looks like the following\n",
    "<div>\n",
    "<img src=\"img/pulse_sequence_vitanov2001.png\" width=500 height=200 />\n",
    "</div>\n",
    "- Furthermore, a crucial assumption is that there is two photon resonance ($\\Delta_p - \\Delta_s = 0$)\n",
    "- Adiabatic condition: $\\Omega_0^2 T > \\frac{100}{T}$ or equivalently $T > \\frac{100}{\\Omega_0}$ where $T$ is the pulse width"
   ]
  },
  {
   "cell_type": "markdown",
   "id": "005b8297-4839-49a4-8677-3759a2ca2003",
   "metadata": {},
   "source": [
    "https://qutip.org/docs/4.4/guide/dynamics/dynamics-time.html"
   ]
  },
  {
   "cell_type": "markdown",
   "id": "af553221-073e-4981-8929-b9221bce7ea6",
   "metadata": {},
   "source": [
    "## Constructing the Hamiltonian"
   ]
  },
  {
   "cell_type": "code",
   "execution_count": 3,
   "id": "e17ee173-249a-4401-acac-9be864a8e16a",
   "metadata": {},
   "outputs": [],
   "source": [
    "def get_Hamiltonian(\n",
    "    ts,\n",
    "    Delta_p,\n",
    "    Delta_s,\n",
    "    Hs_coeff,\n",
    "    Hp_coeff,\n",
    "    phase_noise=None,\n",
    "):\n",
    "    def Hp_detuning_coeff(t, *args):\n",
    "        return np.random.normal(Delta_p, phase_noise, 1)[0]\n",
    "    \n",
    "    def Hs_detuning_coeff(t, *args):\n",
    "        return np.random.normal(Delta_s, phase_noise, 1)[0]\n",
    "\n",
    "    if phase_noise == None:\n",
    "        H0 = qt.Qobj(np.array([[0, 0, 0], [0, Delta_p, 0], [0, 0, Delta_p - Delta_s]]))\n",
    "        Hp = qt.Qobj(np.array([[0, 0.5, 0], [0.5, 0, 0], [0, 0, 0]]))  # time-dependent term\n",
    "        Hs = qt.Qobj(np.array([[0, 0, 0], [0, 0, 0.5], [0, 0.5, 0]]))  # time-dependent term\n",
    "        return [H0,[Hp,Hp_coeff], [Hs,Hs_coeff]]\n",
    "        \n",
    "    else:\n",
    "        H0 = qt.Qobj(np.array([[0, 0, 0], [0, 0, 0], [0, 0, 0]]))\n",
    "        Hp_detuning = qt.Qobj(np.array([[0, 0, 0], [0, 1, 0], [0, 0, 1]]))\n",
    "        Hs_detuning = qt.Qobj(np.array([[0, 0, 0], [0, 0, 0], [0, 0, -1]]))\n",
    "        Hp = qt.Qobj(np.array([[0, 1, 0], [1, 0, 0], [0, 0, 0]]))  # time-dependent term\n",
    "        Hs = qt.Qobj(np.array([[0, 0, 0], [0, 0, 1], [0, 1, 0]]))\n",
    "        return [H0,[Hp, Hp_coeff], [Hs, Hs_coeff], [Hp_detuning, Hp_detuning_coeff], [Hs_detuning, Hs_detuning_coeff]]\n",
    "\n",
    "def get_Hamiltonian_Qobj(\n",
    "    t,\n",
    "    Delta_p,\n",
    "    Delta_s,\n",
    "    Hs_coeff,\n",
    "    Hp_coeff,\n",
    "    phase_noise=None,\n",
    "):\n",
    "    def Hp_detuning_coeff(t, *args):\n",
    "        return np.random.normal(Delta_p, phase_noise, 1)[0]\n",
    "    \n",
    "    def Hs_detuning_coeff(t, *args):\n",
    "        return np.random.normal(Delta_s, phase_noise, 1)[0]\n",
    "\n",
    "    if phase_noise == None:\n",
    "        H = qt.Qobj(np.array([[0, 0.5*Hp_coeff(t), 0], [0.5*Hp_coeff(t), Delta_p, 0.5*Hs_coeff(t)], [0, 0.5*Hs_coeff(t), Delta_p - Delta_s]]))\n",
    "        return H\n",
    "    else:\n",
    "        H = qt.Qobj(np.array([[0, 0.5*Hp_coeff(t), 0], [0.5*Hp_coeff(t), Hp_detuning_coeff(t), 0.5*Hs_coeff(t)], [0, 0.5*Hs_coeff(t), Hp_detuning_coeff(t) - Hs_detuning_coeff(t)]]))\n",
    "        return H"
   ]
  },
  {
   "cell_type": "code",
   "execution_count": 4,
   "id": "958a7965-b371-4e25-8ab8-cb76b48ae266",
   "metadata": {},
   "outputs": [],
   "source": [
    "e_op1 = qt.Qobj(np.array([[1, 0, 0], [0, 0, 0], [0, 0, 0]]))\n",
    "e_op2 = qt.Qobj(np.array([[0, 0, 0], [0, 1, 0], [0, 0, 0]]))\n",
    "e_op3 = qt.Qobj(np.array([[0, 0, 0], [0, 0, 0], [0, 0, 1]]))\n",
    "\n",
    "e_ops = [e_op1, e_op2, e_op3]"
   ]
  },
  {
   "cell_type": "code",
   "execution_count": 5,
   "id": "00160f96-5cc2-42db-bcb9-e502d011483c",
   "metadata": {},
   "outputs": [],
   "source": [
    "def plot(output, ts, pump_ts, stoke_ts):\n",
    "    fig, ax = plt.subplots(3, 1, figsize=(5, 4), sharex=True)\n",
    "    labels = [\"g\", \"m\", \"e\"]\n",
    "    \n",
    "    ax[0].plot(ts, stoke_ts, label=f\"Stokes\")\n",
    "    ax[0].plot(ts, pump_ts, label=f\"Pump\")\n",
    "    ax[0].set_ylabel(\"Omega_0\")\n",
    "    ax[0].legend()\n",
    "    \n",
    "    for i in range(3):\n",
    "        ax[1].plot(ts, output.expect[i], label=f\"|{labels[i]}>\")\n",
    "    ax[1].set_ylabel(\"Population\")\n",
    "    ax[1].legend()\n",
    "    \n",
    "    ax[2].set_ylabel(\"Population\\nnot in |e>\")\n",
    "    ax[2].set_xlabel(\"Time\")\n",
    "    a = 1\n",
    "    ax[2].plot(ts[int((Omega_pt_center+a*Omega_stdev)/(ts[1]-ts[0])) :], 1-output.expect[2][int((Omega_pt_center+a*Omega_stdev)/(ts[1]-ts[0])):], label=f\"|m>\", color=\"green\")\n",
    "    ax[2].set_ylim(0, 1.5 * np.max(1-output.expect[2][int((Omega_pt_center+a*Omega_stdev)/(ts[1]-ts[0])):]))\n",
    "    return (fig, ax)"
   ]
  },
  {
   "cell_type": "markdown",
   "id": "1e62ebe9-4022-434b-ba84-b0c837746a2e",
   "metadata": {},
   "source": [
    "### Pulse shape"
   ]
  },
  {
   "cell_type": "markdown",
   "id": "09e2bfd6-00d1-456e-a882-ea2c6c4fda14",
   "metadata": {},
   "source": [
    "#### 4th Order Gaussian"
   ]
  },
  {
   "cell_type": "code",
   "execution_count": 6,
   "id": "8f7a10fc-60f4-48e7-8c8d-32d50ab7d384",
   "metadata": {},
   "outputs": [],
   "source": [
    "def get_gaussian_4th(Omega_0, Omega_center, Omega_stdev):\n",
    "    def gaussian_4th(t, *args):\n",
    "        return Omega_0 * np.exp(-((t - Omega_center) / Omega_stdev)**4 / 2)\n",
    "    return gaussian_4th"
   ]
  },
  {
   "cell_type": "markdown",
   "id": "ba613e6e-3114-4147-8a3c-94824676c2db",
   "metadata": {},
   "source": [
    "#### Sine"
   ]
  },
  {
   "cell_type": "markdown",
   "id": "a92b5311-7ed8-474d-90ed-7b404b17150e",
   "metadata": {},
   "source": [
    "Modeling the adiabatic creation of ultracold polar 23 Na 40 K molecules (https://link.aps.org/doi/10.1103/PhysRevA.97.013405)"
   ]
  },
  {
   "cell_type": "code",
   "execution_count": 7,
   "id": "af78cbf9-d602-4b62-9bda-af4dbae6b45e",
   "metadata": {},
   "outputs": [],
   "source": [
    "def get_sine(Omega_0, Omega_center, Omega_width):\n",
    "    def sine(t):\n",
    "        return Omega_0 * (0.5 * (1 + np.sin(2 * np.pi * (t - Omega_center + Omega_width/2) / (2*Omega_width)))) * (Omega_center - Omega_width < t < Omega_center + Omega_width)\n",
    "    def sine_np(t):\n",
    "        return Omega_0 * (0.5 * (1 + np.sin(2 * np.pi * (t - Omega_center + Omega_width/2) / (2*Omega_width)))) * np.heaviside(t - (Omega_center - Omega_width), 1) * np.heaviside(-t + (Omega_center + Omega_width), 1)\n",
    "    return (sine, sine_np)"
   ]
  },
  {
   "cell_type": "code",
   "execution_count": 8,
   "id": "c81aafb8-f3b6-4292-8d76-a54acc21a6b4",
   "metadata": {},
   "outputs": [],
   "source": [
    "def get_sine(Omega_0, Omega_center, Omega_width):\n",
    "    def sine(t):\n",
    "        return Omega_0 * np.sin((t - (Omega_center - Omega_width)) * np.pi / (2 * Omega_width)) * np.exp(-1*((t - Omega_center)**2 / (2*(Omega_width/1.3)**2))**2) * (Omega_center - Omega_width < t < Omega_center + Omega_width)\n",
    "    # def sine(t):\n",
    "    #     return Omega_0 * (0.5 * (1 + np.sin(2 * np.pi * (t - Omega_center + Omega_width/2) / (2*Omega_width)))) * (Omega_center - Omega_width < t < Omega_center + Omega_width)\n",
    "    # def sine_np(t):\n",
    "    #     return Omega_0 * (0.5 * (1 + np.sin(2 * np.pi * (t - Omega_center + Omega_width/2) / (2*Omega_width)))) * np.heaviside(t - (Omega_center - Omega_width), 1) * np.heaviside(-t + (Omega_center + Omega_width), 1)\n",
    "    def sine_np(t):\n",
    "        val =  Omega_0 * np.sin((t - (Omega_center - Omega_width)) * np.pi / (2 * Omega_width)) * np.exp(-1*((t - Omega_center)**2 / (2*(Omega_width/1.3)**2))**2)\n",
    "        return val * np.heaviside(t - (Omega_center - Omega_width), 1) * np.heaviside(-t + (Omega_center + Omega_width), 1)\n",
    "    return (sine, sine_np)"
   ]
  },
  {
   "cell_type": "code",
   "execution_count": 9,
   "id": "780eca2e-7b9d-4db5-a56c-c8db66aca886",
   "metadata": {},
   "outputs": [
    {
     "data": {
      "text/plain": [
       "[<matplotlib.lines.Line2D at 0x1dd3abecb30>]"
      ]
     },
     "execution_count": 9,
     "metadata": {},
     "output_type": "execute_result"
    },
    {
     "data": {
      "image/png": "[encoded data removed]",
      "text/plain": [
       "<Figure size 350x262.5 with 1 Axes>"
      ]
     },
     "metadata": {},
     "output_type": "display_data"
    }
   ],
   "source": [
    "ts = np.linspace(0, 5, 1000)\n",
    "Omega_0 = 1\n",
    "Omega_center = 2\n",
    "Omega_width = 1.5\n",
    "sin, sin_np = get_sine(Omega_0, Omega_center, Omega_width)\n",
    "fig, ax = plt.subplots()\n",
    "ax.plot(ts, Omega_0 * np.sin((ts - (Omega_center - Omega_width)) * np.pi / (2 * Omega_width)) * np.heaviside(ts - (Omega_center - Omega_width), 1) * np.heaviside(-ts + (Omega_center + Omega_width), 1))\n",
    "ax.plot(ts, np.exp(-1*((ts - Omega_center)**2 / (2*(Omega_width/2)**2))**2) )\n",
    "# ax.plot(ts, np.exp(-1*((ts - Omega_center)**2 / (2*(Omega_width/2)**2))**1) )\n",
    "ax.plot(ts, sin_np(ts), color=\"orange\")"
   ]
  },
  {
   "cell_type": "markdown",
   "id": "f5417c99-3fb3-4876-bcec-747f4844ae77",
   "metadata": {},
   "source": [
    "#### Gaussian"
   ]
  },
  {
   "cell_type": "code",
   "execution_count": 10,
   "id": "08b431b6-f39e-415b-92b4-60790c716672",
   "metadata": {},
   "outputs": [],
   "source": [
    "def get_gaussian(Omega_0, Omega_center, Omega_stdev):\n",
    "    def gaussian(t, *args):\n",
    "        return Omega_0 * np.exp(-((t - Omega_center) / Omega_stdev)**2 / 2)\n",
    "    return gaussian"
   ]
  },
  {
   "cell_type": "markdown",
   "id": "0c8ab3e2-6b2b-4fc5-b0ff-cbb48b52caf6",
   "metadata": {},
   "source": [
    "## Figure 1"
   ]
  },
  {
   "cell_type": "code",
   "execution_count": 11,
   "id": "3819ae48-95f2-474e-8cb6-23cf67384444",
   "metadata": {},
   "outputs": [
    {
     "data": {
      "image/png": "[encoded data removed]",
      "text/plain": [
       "<Figure size 250x450 with 4 Axes>"
      ]
     },
     "metadata": {},
     "output_type": "display_data"
    }
   ],
   "source": [
    "Delta_p = 0\n",
    "Delta_s = Delta_p  # Two photon resonance\n",
    "\n",
    "Omega_0 = 1\n",
    "Omega_stdev = 10 / Omega_0\n",
    "Omega_st_center = 5*Omega_stdev\n",
    "Omega_pt_center = Omega_st_center + 1.5*Omega_stdev\n",
    "\n",
    "psi0 = qt.basis(3, 0)\n",
    "ts = np.linspace(0, Omega_pt_center + 5*Omega_stdev, 2000)\n",
    "\n",
    "stokes_func= get_gaussian(Omega_0, Omega_st_center, Omega_stdev)\n",
    "pump_func= get_gaussian(Omega_0, Omega_pt_center, Omega_stdev)\n",
    "\n",
    "H = get_Hamiltonian(\n",
    "    ts,\n",
    "    Delta_p,\n",
    "    Delta_s,\n",
    "    Hs_coeff=stokes_func,\n",
    "    Hp_coeff=pump_func,\n",
    "    phase_noise=None,\n",
    ")\n",
    "output = qt.mesolve(H, psi0, ts, e_ops=e_ops)\n",
    "\n",
    "num_ts = 50\n",
    "ts_energies = [ts[j] for j in range(len(ts)) if j%int(np.ceil(len(ts) / num_ts)) == 0]\n",
    "Eg, Em, Ee = np.zeros(num_ts), np.zeros(num_ts), np.zeros(num_ts)\n",
    "for i in range(len(ts_energies)):\n",
    "    H = get_Hamiltonian_Qobj(\n",
    "        ts_energies[i],\n",
    "        Delta_p,\n",
    "        Delta_s,\n",
    "        Hs_coeff=stokes_func,\n",
    "        Hp_coeff=pump_func,\n",
    "        phase_noise=None,\n",
    "    )\n",
    "    Eg[i], Em[i], Ee[i] = H.eigenenergies()\n",
    "energies = [Eg, Em, Ee]\n",
    "\n",
    "fig, ax = plt.subplots(4, 1, figsize=(2.5, 4.5), sharex=True)\n",
    "energy_labels = [r\"$\\epsilon_-$\", r\"$\\epsilon_0$\", r\"$\\epsilon_+$\"]\n",
    "\n",
    "ax[0].plot(ts, stokes_func(ts), label=f\"Stokes\", color=colors[6], linestyle='--', linewidth=2., alpha=0.75)\n",
    "ax[0].plot(ts, pump_func(ts), label=f\"Pump\", color=colors[6], linestyle='-', linewidth=2., alpha=0.75)\n",
    "ax[0].set_ylabel(\"Rabi\\nFrequencies\")\n",
    "ax[0].legend(bbox_to_anchor=(1.52, 1.05))\n",
    "\n",
    "ax[1].plot(ts, output.expect[0], label=r\"$|$\" + f\"1\" + r\"$\\rangle$\", color=colors[0], linewidth=1.7, alpha=0.75)\n",
    "ax[1].plot(ts, output.expect[1], label=r\"$|$\" + f\"2\" + r\"$\\rangle$\", color=colors[1], linewidth=1.7, alpha=0.75)\n",
    "ax[1].plot(ts, output.expect[2], label=r\"$|$\" + f\"3\" + r\"$\\rangle$\", color=colors[2], linewidth=1.7, alpha=0.75)\n",
    "\n",
    "ax[3].plot(ts_energies, energies[2], label=energy_labels[2], color=colors[3], linewidth=1.7, alpha=0.75)\n",
    "ax[3].plot(ts_energies, energies[1], label=energy_labels[1], color=colors[4], linewidth=1.7, alpha=0.75)\n",
    "ax[3].plot(ts_energies, energies[0], label=energy_labels[0], color=colors[5], linewidth=1.7, alpha=0.75)\n",
    "\n",
    "ax[1].set_ylabel(\"Populations\")\n",
    "ax[1].legend(bbox_to_anchor=(1., 1.05))\n",
    "\n",
    "ax[2].plot(ts, np.arctan2(pump_func(ts), stokes_func(ts)) * 180 / np.pi, color=\"teal\", linewidth=2.2, alpha=0.75)\n",
    "ax[2].set_ylabel(\"Mixing\\n\" + r\"Angle $\\theta(t)$\")\n",
    "ax[2].set_yticks([0, 45, 90])\n",
    "\n",
    "ax[3].set_ylabel(\"Eigenenergies\")\n",
    "ax[3].set_xlabel(\"Time\")\n",
    "ax[3].legend(bbox_to_anchor=(1., 1.05))\n",
    "\n",
    "\n",
    "ax[0].text(-0.32, 0.98, r'(a)', transform=ax[0].transAxes, fontsize=11, color='black', \n",
    "        ha='center', va='center') \n",
    "ax[1].text(-0.32, 0.98, r'(b)', transform=ax[1].transAxes, fontsize=11, color='black', \n",
    "        ha='center', va='center') \n",
    "ax[2].text(-0.32, 0.98, r'(c)', transform=ax[2].transAxes, fontsize=11, color='black', \n",
    "        ha='center', va='center') \n",
    "ax[3].text(-0.32, 0.98, r'(d)', transform=ax[3].transAxes, fontsize=11, color='black', \n",
    "        ha='center', va='center') \n",
    "\n",
    "plt.show()\n",
    "# fig.savefig('img/STIRAP_sequences.png', dpi=1200)"
   ]
  },
  {
   "cell_type": "markdown",
   "id": "a997c77b-c28b-4f72-a8af-f8b93507783d",
   "metadata": {},
   "source": [
    "## Figure 2"
   ]
  },
  {
   "cell_type": "code",
   "execution_count": 12,
   "id": "d092b8a2-f1cd-400a-b604-f0dbb8814f65",
   "metadata": {},
   "outputs": [
    {
     "data": {
      "image/png": "[encoded data removed]",
      "text/plain": [
       "<Figure size 450x275 with 4 Axes>"
      ]
     },
     "metadata": {},
     "output_type": "display_data"
    }
   ],
   "source": [
    "fig, ax = plt.subplots(2, 2, figsize=(4.5, 2.75), sharex=True, sharey='row')\n",
    "plt.subplots_adjust(wspace=0.37, hspace=0.6)\n",
    "energy_labels = [r\"$\\epsilon_+$\", r\"$\\epsilon_0$\", r\"$\\epsilon_-$\"]\n",
    "\n",
    "Delta_ps = [-1, -0.15]\n",
    "\n",
    "for k in range(2):\n",
    "    Delta_p = Delta_ps[k]\n",
    "    Delta_s = 0.0 # Two photon resonance\n",
    "    Omega_0 = 1\n",
    "    Omega_stdev = 10 / Omega_0\n",
    "    Omega_st_center = 5*Omega_stdev\n",
    "    Omega_pt_center = Omega_st_center + 1.5*Omega_stdev\n",
    "    \n",
    "    psi0 = qt.basis(3, 0)\n",
    "    ts = np.linspace(0, Omega_pt_center + 5*Omega_stdev, 2000)\n",
    "    \n",
    "    stokes_func= get_gaussian(Omega_0, Omega_st_center, Omega_stdev)\n",
    "    pump_func= get_gaussian(Omega_0, Omega_pt_center, Omega_stdev)\n",
    "    \n",
    "    H = get_Hamiltonian(\n",
    "        ts,\n",
    "        Delta_p,\n",
    "        Delta_s,\n",
    "        Hs_coeff=stokes_func,\n",
    "        Hp_coeff=pump_func,\n",
    "        phase_noise=None,\n",
    "    )\n",
    "    output = qt.mesolve(H, psi0, ts, e_ops=e_ops)\n",
    "    \n",
    "    num_ts = 50\n",
    "    ts_energies = [ts[j] for j in range(len(ts)) if j%int(np.ceil(len(ts) / num_ts)) == 0]\n",
    "    Eg, Em, Ee = np.zeros(num_ts), np.zeros(num_ts), np.zeros(num_ts)\n",
    "    for i in range(len(ts_energies)):\n",
    "        H = get_Hamiltonian_Qobj(\n",
    "            ts_energies[i],\n",
    "            Delta_p,\n",
    "            Delta_s,\n",
    "            Hs_coeff=stokes_func,\n",
    "            Hp_coeff=pump_func,\n",
    "            phase_noise=None,\n",
    "        )\n",
    "        Eg[i], Em[i], Ee[i] = H.eigenenergies()\n",
    "    energies = [Eg, Em, Ee]\n",
    "    \n",
    "    ax[0][k].plot(ts, output.expect[0], label=r\"$|$\" + f\"1\" + r\"$\\rangle$\", color=colors[0], alpha=0.72, linewidth=1.5)\n",
    "    ax[0][k].plot(ts, output.expect[1], label=r\"$|$\" + f\"2\" + r\"$\\rangle$\", color=colors[1], alpha=0.72, linewidth=1.5)\n",
    "    ax[0][k].plot(ts, output.expect[2], label=r\"$|$\" + f\"3\" + r\"$\\rangle$\", color=colors[2], alpha=0.72, linewidth=1.5)\n",
    "    ax[0][k].set_ylim([-0.05, 1.05])\n",
    "    \n",
    "    ax[1][k].plot(ts_energies, energies[0], label=energy_labels[0], color=colors[3], alpha=0.72, linewidth=1.5)\n",
    "    ax[1][k].plot(ts_energies, energies[1], label=energy_labels[1], color=colors[4], alpha=0.72, linewidth=1.5)\n",
    "    ax[1][k].plot(ts_energies, energies[2], label=energy_labels[2], color=colors[5], alpha=0.72, linewidth=1.5)\n",
    "    \n",
    "    \n",
    "# ax[0][1].set_ylabel(\"Eigenenergies\")\n",
    "# ax[0][1].set_xlabel(\"Time\")\n",
    "ax[0][0].set_title(r\"$|\\Delta_p - \\Delta_s|$ = 1\")\n",
    "ax[0][1].set_title(r\"$|\\Delta_p - \\Delta_s|$ = 0.15\")\n",
    "ax[0][1].legend(bbox_to_anchor=(1., 1.05))\n",
    "ax[1][1].legend(bbox_to_anchor=(1., 1.05))\n",
    "ax[0][0].set_ylabel(\"Population\")\n",
    "ax[1][0].set_ylabel(\"Energies\")\n",
    "fig.tight_layout()\n",
    "fig.supxlabel('Time', x=0.45, y=-0.02)\n",
    "\n",
    "ax[0][0].text(-0.22, 1.1, r'(a)', transform=ax[0][0].transAxes, fontsize=11, color='black', \n",
    "        ha='center', va='center') \n",
    "ax[0][1].text(-0.04, 1.1, r'(b)', transform=ax[0][1].transAxes, fontsize=11, color='black', \n",
    "        ha='center', va='center') \n",
    "ax[1][0].text(-0.22, 1.08, r'(c)', transform=ax[1][0].transAxes, fontsize=11, color='black', \n",
    "        ha='center', va='center') \n",
    "ax[1][1].text(-0.04, 1.1, r'(d)', transform=ax[1][1].transAxes, fontsize=11, color='black', \n",
    "        ha='center', va='center') \n",
    "plt.show()\n",
    "\n",
    "# fig.savefig('img/delta_detuning_plots.png', dpi=1200)"
   ]
  },
  {
   "cell_type": "markdown",
   "id": "91d2e2df-c9a3-491f-8cd0-f8ef84e60263",
   "metadata": {},
   "source": [
    "## Figure 3 (Sine vs. Gaussian)"
   ]
  },
  {
   "cell_type": "code",
   "execution_count": 13,
   "id": "2581e8df-a6b8-4ce4-887b-aa71dbe2acf8",
   "metadata": {},
   "outputs": [],
   "source": [
    "## Plot\n",
    "Delta_p = 0\n",
    "Delta_s = Delta_p  # Two photon resonance\n",
    "\n",
    "Omega_0 = 1\n",
    "Omega_stdev = 50 / Omega_0\n",
    "sine_factor = 2.2\n",
    "\n",
    "psi0 = qt.basis(3, 0)\n",
    "\n",
    "overlaps = np.linspace(0, 4, 50) * Omega_stdev\n",
    "population_in_3 = np.zeros((2, len(overlaps)))\n",
    "for n in range(2):\n",
    "    for j in range(len(overlaps)):\n",
    "        if n == 0:\n",
    "            Omega_st_center = 5*Omega_stdev\n",
    "            Omega_pt_center = Omega_st_center + overlaps[j]\n",
    "            ts = np.linspace(0, Omega_pt_center + 5*Omega_stdev, 2000)\n",
    "            \n",
    "            stokes_func= get_gaussian(Omega_0, Omega_st_center, Omega_stdev)\n",
    "            pump_func= get_gaussian(Omega_0, Omega_pt_center, Omega_stdev)\n",
    "            \n",
    "        elif n == 1:\n",
    "            Omega_st_center = 1.2*Omega_stdev\n",
    "            Omega_pt_center = Omega_st_center + overlaps[j]\n",
    "            ts = np.linspace(0, Omega_pt_center + 1.2*sine_factor*Omega_stdev, 2000)\n",
    "            \n",
    "            stokes_func, stokes_np = get_sine(Omega_0, Omega_st_center, sine_factor*Omega_stdev)\n",
    "            pump_func, pump_np = get_sine(Omega_0, Omega_pt_center, sine_factor*Omega_stdev)\n",
    "\n",
    "        H = get_Hamiltonian(\n",
    "            ts,\n",
    "            Delta_p,\n",
    "            Delta_s,\n",
    "            Hs_coeff=stokes_func,\n",
    "            Hp_coeff=pump_func,\n",
    "            phase_noise=None,\n",
    "        )\n",
    "        output = qt.mesolve(H, psi0, ts, e_ops=e_ops)\n",
    "        population_in_3[n][j] = output.expect[2][-1]"
   ]
  },
  {
   "cell_type": "code",
   "execution_count": 14,
   "id": "2a93a347-9281-46ee-95c9-6cbd28b635e4",
   "metadata": {},
   "outputs": [
    {
     "name": "stderr",
     "output_type": "stream",
     "text": [
      "<>:57: SyntaxWarning: invalid escape sequence '\\O'\n",
      "<>:57: SyntaxWarning: invalid escape sequence '\\O'\n",
      "C:\\Users\\jenny\\AppData\\Local\\Temp\\ipykernel_19596\\3673414714.py:57: SyntaxWarning: invalid escape sequence '\\O'\n",
      "  yticklabels = [r'0', '$\\Omega_0$', '']\n"
     ]
    },
    {
     "data": {
      "image/png": "[encoded data removed]",
      "text/plain": [
       "<Figure size 400x500 with 6 Axes>"
      ]
     },
     "metadata": {},
     "output_type": "display_data"
    }
   ],
   "source": [
    "fig = plt.figure(figsize=(4., 5.))\n",
    "outer_gs = GridSpec(2, 1, height_ratios=[0.7, 2], hspace=0.35, wspace=0.5)\n",
    "\n",
    "top_gs = gridspec.GridSpecFromSubplotSpec(1, 2, subplot_spec=outer_gs[0], wspace=0.24)\n",
    "btm_gs = gridspec.GridSpecFromSubplotSpec(2, 2, subplot_spec=outer_gs[1], hspace=0.35, wspace=0.25)\n",
    "\n",
    "ax0 = fig.add_subplot(top_gs[0])\n",
    "ax1 = fig.add_subplot(top_gs[1], sharey=ax0)\n",
    "\n",
    "ax2 = fig.add_subplot(btm_gs[0,0])\n",
    "ax3 = fig.add_subplot(btm_gs[0,1], sharey=ax2)\n",
    "ax4 = fig.add_subplot(btm_gs[1,0])\n",
    "ax5 = fig.add_subplot(btm_gs[1,1], sharey=ax4, sharex=ax2)\n",
    "\n",
    "ax = [[ax0, ax1], [ax2, ax3], [ax4, ax5]]\n",
    "\n",
    "Omega_st_center_gauss = 5*Omega_stdev\n",
    "Omega_pt_center_opt_gauss = Omega_st_center_gauss + overlaps[np.argmax(population_in_3[0])]\n",
    "stokes_gauss = get_gaussian(Omega_0, Omega_st_center_gauss, Omega_stdev)\n",
    "pump_gauss = get_gaussian(Omega_0, Omega_pt_center_opt_gauss, Omega_stdev)\n",
    "ts_gauss = np.linspace(0, Omega_pt_center_opt_gauss + 5*Omega_stdev, 2000)\n",
    "\n",
    "Omega_st_center_sine = 5*Omega_stdev\n",
    "Omega_pt_center_opt_sine = Omega_st_center_sine + overlaps[np.argmax(population_in_3[1])]\n",
    "_, stokes_sine = get_sine(Omega_0, Omega_st_center_sine, sine_factor*Omega_stdev)\n",
    "_, pump_sine = get_sine(Omega_0, Omega_pt_center_opt_sine, sine_factor*Omega_stdev)\n",
    "ts_sine = np.linspace(0, Omega_pt_center_opt_sine + 5*Omega_stdev, 2000)\n",
    "\n",
    "ax[0][0].plot(overlaps, population_in_3[0], color=\"#4590b5\", alpha=0.72, linewidth=1.5)\n",
    "ax[0][1].plot(overlaps, population_in_3[1], color=\"#1b3dab\", alpha=0.72, linewidth=1.5)\n",
    "ax[0][0].scatter(overlaps[np.argmax(population_in_3[0])], population_in_3[0][np.argmax(population_in_3[0])], s=12, color=\"#4590b5\", alpha=0.72)\n",
    "ax[0][1].scatter(overlaps[np.argmax(population_in_3[1])], population_in_3[1][np.argmax(population_in_3[1])], s=12, color=\"#1b3dab\", alpha=0.72)\n",
    "ax[0][0].text(-0.1, 1.15, r'(a)', transform=ax[0][0].transAxes, fontsize=11, color='black', \n",
    "        ha='center', va='center') \n",
    "ax[0][1].text(-0.1, 1.15, r'(b)', transform=ax[0][1].transAxes, fontsize=11, color='black', \n",
    "        ha='center', va='center') \n",
    "ax[0][0].text(0.47, 0.78, r'c, e', transform=ax[0][0].transAxes, fontsize=9, color='black', \n",
    "        ha='center', va='center') \n",
    "ax[0][1].text(0.35, 0.8, r'd, f', transform=ax[0][1].transAxes, fontsize=9, color='black', \n",
    "        ha='center', va='center') \n",
    "# ax[0][0].set_yscale('log')\n",
    "\n",
    "\n",
    "ax[0][0].set_ylim(-0.05, 1.1)\n",
    "ax[0][0].set_ylabel(r\"Population in $|3 \\rangle$\" + \"\\nAfter STIRAP\")\n",
    "ax[0][0].set_xlabel(r\"Distance $d$ between peaks\", x=1.1)\n",
    "ax[0][0].set_title(\"Gaussian\", y=1.04)\n",
    "ax[0][1].set_title(\"Sine\", y=1.04)\n",
    "\n",
    "\n",
    "ax[1][0].plot(ts_gauss, stokes_gauss(ts_gauss), label=\"Stokes\", color=colors[5], alpha=0.72, linewidth=1.5, linestyle='--')\n",
    "ax[1][0].plot(ts_gauss, pump_gauss(ts_gauss), label=\"Pump\", color=colors[5],alpha=0.72, linewidth=1.5)\n",
    "ax[1][1].plot(ts_sine, stokes_sine(ts_sine), label=\"Stokes\", color=colors[4], alpha=0.72, linewidth=1.5, linestyle='--')\n",
    "ax[1][1].plot(ts_sine, pump_sine(ts_sine), label=\"Pump\", color=colors[4], alpha=0.72, linewidth=1.5)\n",
    "# ax[1][0].legend(labelspacing=0.2)\n",
    "yticks = [0, 1, 1.2]\n",
    "yticklabels = [r'0', '$\\Omega_0$', '']\n",
    "ax[1][0].set_yticks(yticks)\n",
    "ax[1][0].set_yticklabels(yticklabels)\n",
    "ax[1][0].set_ylabel(\"Rabi Frequencies\")\n",
    "\n",
    "ax[1][0].text(-0.1, 1.07, r'(c)', transform=ax[1][0].transAxes, fontsize=11, color='black', \n",
    "        ha='center', va='center') \n",
    "ax[1][1].text(-0.1, 1.07, r'(d)', transform=ax[1][1].transAxes, fontsize=11, color='black', \n",
    "        ha='center', va='center') \n",
    "\n",
    "\n",
    "# ax[2][0].plot(ts_gauss, np.arctan2(pump_gauss(ts_gauss), stokes_gauss(ts_gauss)) * 180 / np.pi, color=\"teal\", alpha=0.72, linewidth=1.5)\n",
    "# mixing_angle_data = np.zeros_like(ts_sine)\n",
    "# mixing_angle_data[:int(len(ts_sine) * 3.5/5)] = np.arctan2(pump_sine(ts_sine), stokes_sine(ts_sine))[:int(len(ts_sine) * 3.5/5)]\n",
    "# mixing_angle_data[int(len(ts_sine) * 3.5/5):] = np.pi/2\n",
    "# ax[2][1].plot(ts_sine, mixing_angle_data * 180 / np.pi, color=\"magenta\", alpha=0.72, linewidth=1.5)\n",
    "# ax[2][0].set_yticks([0, 45, 90, 100])\n",
    "# ax[2][0].set_yticklabels(['0', '45', '90', ''])\n",
    "# ax[2][0].set_ylabel(r\"Mixing Angle $\\theta(t)$\")\n",
    "# ax[2][0].set_xlabel(\"Time\", x=1.1)\n",
    "\n",
    "ax[2][0].plot(ts_gauss, np.square(stokes_gauss(ts_gauss)) +  np.square(pump_gauss(ts_gauss)), color=\"teal\", alpha=0.72, linewidth=1.5)\n",
    "ax[2][1].plot(ts_sine, (np.square(stokes_sine(ts_sine)) +  np.square(pump_sine(ts_sine))) / np.max(np.square(stokes_sine(ts_sine)) +  np.square(pump_sine(ts_sine))), color=\"magenta\", alpha=0.72, linewidth=1.5)\n",
    "ax[2][0].text(-0.1, 1.12, r'(e)', transform=ax[2][0].transAxes, fontsize=11, color='black', \n",
    "        ha='center', va='center') \n",
    "ax[2][1].text(-0.1, 1.12, r'(f)', transform=ax[2][1].transAxes, fontsize=11, color='black', \n",
    "        ha='center', va='center') \n",
    "ax[2][0].set_xlabel(\"Time\", x=1.1)\n",
    "ax[2][0].set_ylabel(r\"$\\Omega_s^2 + \\Omega_p^2$\")\n",
    "\n",
    "plt.show()\n",
    "fig.savefig('img/pulse_shape_plots.png', dpi=1200)"
   ]
  },
  {
   "cell_type": "code",
   "execution_count": 15,
   "id": "2790ba04-fb84-4cad-a750-593738e74f8e",
   "metadata": {},
   "outputs": [
    {
     "data": {
      "text/plain": [
       "106.12244897959182"
      ]
     },
     "execution_count": 15,
     "metadata": {},
     "output_type": "execute_result"
    }
   ],
   "source": [
    "overlaps[np.argmax(population_in_3[1])]"
   ]
  },
  {
   "cell_type": "code",
   "execution_count": 16,
   "id": "1dfad4aa-49b2-4708-9d90-36a457d3d55a",
   "metadata": {},
   "outputs": [
    {
     "data": {
      "text/plain": [
       "0.9999910891973657"
      ]
     },
     "execution_count": 16,
     "metadata": {},
     "output_type": "execute_result"
    }
   ],
   "source": [
    "np.max(population_in_3[1])"
   ]
  },
  {
   "cell_type": "code",
   "execution_count": 17,
   "id": "d3a000d8-b2de-49af-80aa-136bf0af920a",
   "metadata": {},
   "outputs": [
    {
     "data": {
      "text/plain": [
       "114.28571428571428"
      ]
     },
     "execution_count": 17,
     "metadata": {},
     "output_type": "execute_result"
    }
   ],
   "source": [
    "overlaps[np.argmax(population_in_3[0])]"
   ]
  },
  {
   "cell_type": "code",
   "execution_count": 18,
   "id": "30f7744c-b9ad-4e91-973a-42caee238c42",
   "metadata": {},
   "outputs": [
    {
     "data": {
      "text/plain": [
       "0.9999999991891237"
      ]
     },
     "execution_count": 18,
     "metadata": {},
     "output_type": "execute_result"
    }
   ],
   "source": [
    "np.max(population_in_3[0])"
   ]
  },
  {
   "cell_type": "markdown",
   "id": "c0bce114-465c-49f0-82c3-c229a92f3a8a",
   "metadata": {},
   "source": [
    "## Figure 4\n",
    "- Let's see how much symmetry affects the efficiency of STIRAP\n",
    "- Use Gaussian shape"
   ]
  },
  {
   "cell_type": "code",
   "execution_count": 19,
   "id": "9db28c9e-305f-4d6c-9f02-1f018faec993",
   "metadata": {},
   "outputs": [
    {
     "data": {
      "image/png": "[encoded data removed]",
      "text/plain": [
       "<Figure size 450x275 with 4 Axes>"
      ]
     },
     "metadata": {},
     "output_type": "display_data"
    }
   ],
   "source": [
    "fig, ax = plt.subplots(2, 2, figsize=(4.5, 2.75), sharex=True, sharey='row')\n",
    "fig.subplotpars.wspace = 0.1\n",
    "fig.subplotpars.hspace = 0.15\n",
    "\n",
    "energy_labels = [r\"$\\epsilon_+$\", r\"$\\epsilon_0$\", r\"$\\epsilon_-$\"]\n",
    "\n",
    "height_factor = 3\n",
    "\n",
    "for k in range(2):\n",
    "    Delta_p = 1\n",
    "    Delta_s = Delta_p # Two photon resonance\n",
    "    Omega_0 = 1\n",
    "    Omega_stdev = 10 / Omega_0\n",
    "    Omega_st_center = 5*Omega_stdev\n",
    "    Omega_pt_center = Omega_st_center + 1.7*Omega_stdev\n",
    "    \n",
    "    psi0 = qt.basis(3, 0)\n",
    "    ts = np.linspace(0, Omega_pt_center + 5*Omega_stdev, 2000)\n",
    "\n",
    "    if k == 0:\n",
    "        stokes_func= get_gaussian(Omega_0, Omega_st_center, Omega_stdev)\n",
    "        pump_func= get_gaussian(height_factor*Omega_0, Omega_pt_center, Omega_stdev)\n",
    "    elif k == 1:\n",
    "        stokes_func= get_gaussian(height_factor*Omega_0, Omega_st_center, Omega_stdev)\n",
    "        pump_func= get_gaussian(Omega_0, Omega_pt_center, Omega_stdev)\n",
    "    \n",
    "    H = get_Hamiltonian(\n",
    "        ts,\n",
    "        Delta_p,\n",
    "        Delta_s,\n",
    "        Hs_coeff=stokes_func,\n",
    "        Hp_coeff=pump_func,\n",
    "        phase_noise=None,\n",
    "    )\n",
    "    output = qt.mesolve(H, psi0, ts, e_ops=e_ops)\n",
    "    \n",
    "    num_ts = 50\n",
    "    ts_energies = [ts[j] for j in range(len(ts)) if j%int(np.ceil(len(ts) / num_ts)) == 0]\n",
    "    Eg, Em, Ee = np.zeros(num_ts), np.zeros(num_ts), np.zeros(num_ts)\n",
    "    for i in range(len(ts_energies)):\n",
    "        H = get_Hamiltonian_Qobj(\n",
    "            ts_energies[i],\n",
    "            Delta_p,\n",
    "            Delta_s,\n",
    "            Hs_coeff=stokes_func,\n",
    "            Hp_coeff=pump_func,\n",
    "            phase_noise=None,\n",
    "        )\n",
    "        Eg[i], Em[i], Ee[i] = H.eigenenergies()\n",
    "    energies = [Eg, Em, Ee]\n",
    "    \n",
    "    ax[1][k].plot(ts, output.expect[0], label=r\"$|$\" + f\"1\" + r\"$\\rangle$\", color=colors[0], alpha=0.72, linewidth=1.5)\n",
    "    ax[1][k].plot(ts, output.expect[1], label=r\"$|$\" + f\"2\" + r\"$\\rangle$\", color=colors[1], alpha=0.72, linewidth=1.5)\n",
    "    ax[1][k].plot(ts, output.expect[2], label=r\"$|$\" + f\"3\" + r\"$\\rangle$\", color=colors[2], alpha=0.72, linewidth=1.5)\n",
    "    ax[1][k].set_ylim([-0.05, 1.05])\n",
    "    \n",
    "    ax[0][k].plot(ts, stokes_func(ts), label=\"Stokes\", color=colors[3+k], alpha=0.72, linewidth=1.5, linestyle='--')\n",
    "    ax[0][k].plot(ts, pump_func(ts), label=\"Pump\", color=colors[3+k], alpha=0.72, linewidth=1.5)\n",
    "    \n",
    "    \n",
    "# ax[0][1].set_ylabel(\"Eigenenergies\")\n",
    "# ax[0][1].set_xlabel(\"Time\")\n",
    "ax[0][0].set_title(r\"$\\Omega_s = (1/3)\\Omega_p$\")\n",
    "ax[0][1].set_title(r\"$\\Omega_s = 3\\Omega_p$\")\n",
    "ax[0][1].legend(bbox_to_anchor=(1., 1.05), labelcolor='black')\n",
    "for line, text in zip(plt.legend().get_lines(), plt.legend().get_texts()):\n",
    "    line_color = line.get_color()\n",
    "    text.set_color('black')  # Set label color to black or desired\n",
    "    line.set_color('orange')\n",
    "\n",
    "ax[1][1].legend(bbox_to_anchor=(1., 1.05))\n",
    "ax[0][0].set_yticks([0, 1.5, 3.5])\n",
    "ax[0][0].set_yticklabels(['', '', ''])\n",
    "ax[0][0].set_ylabel(\"Rabi Frequencies\")\n",
    "ax[1][0].set_ylabel(\"Population\")\n",
    "\n",
    "ax[0][0].text(-0.24, 1.1, r'(a)', transform=ax[0][0].transAxes, fontsize=11, color='black', \n",
    "        ha='center', va='center') \n",
    "ax[0][1].text(-0.04, 1.1, r'(b)', transform=ax[0][1].transAxes, fontsize=11, color='black', \n",
    "        ha='center', va='center') \n",
    "ax[1][0].text(-0.24, 1.08, r'(c)', transform=ax[1][0].transAxes, fontsize=11, color='black', \n",
    "        ha='center', va='center') \n",
    "ax[1][1].text(-0.04, 1.1, r'(d)', transform=ax[1][1].transAxes, fontsize=11, color='black', \n",
    "        ha='center', va='center') \n",
    "fig.tight_layout()\n",
    "fig.supxlabel('Time', x=0.45, y=-0.02)\n",
    "plt.show()\n",
    "\n",
    "fig.savefig('img/diff_height_plots.png', dpi=1200)"
   ]
  },
  {
   "cell_type": "markdown",
   "id": "ef952e32-d53a-4477-9502-1b5ceaa1eb7c",
   "metadata": {},
   "source": [
    "## Figure 5"
   ]
  },
  {
   "cell_type": "code",
   "execution_count": 20,
   "id": "dd984aea-d865-4783-bb93-f3b3835e8694",
   "metadata": {},
   "outputs": [],
   "source": [
    "a0 = physical_constants['Bohr radius'][0]"
   ]
  },
  {
   "cell_type": "code",
   "execution_count": 21,
   "id": "a9929281-8ae7-4ba9-9705-031978c0052c",
   "metadata": {},
   "outputs": [
    {
     "data": {
      "text/plain": [
       "2241110.2179099545"
      ]
     },
     "execution_count": 21,
     "metadata": {},
     "output_type": "execute_result"
    }
   ],
   "source": [
    "0.018 * e * a0 * np.sqrt(2*c*4e-3) / hbar"
   ]
  },
  {
   "cell_type": "code",
   "execution_count": 22,
   "id": "cd1127af-31b8-432a-916e-ade75afb9b9d",
   "metadata": {},
   "outputs": [
    {
     "data": {
      "text/plain": [
       "2200978.100653597"
      ]
     },
     "execution_count": 22,
     "metadata": {},
     "output_type": "execute_result"
    }
   ],
   "source": [
    "0.005 * e * a0 * np.sqrt(2*c*50e-3) / hbar "
   ]
  },
  {
   "cell_type": "code",
   "execution_count": 31,
   "id": "b51c85f4-75fd-420e-9b27-b710b3de0ef9",
   "metadata": {},
   "outputs": [
    {
     "data": {
      "image/png": "[encoded data removed]",
      "text/plain": [
       "<Figure size 250x250 with 2 Axes>"
      ]
     },
     "metadata": {},
     "output_type": "display_data"
    }
   ],
   "source": [
    "Delta_p = 0\n",
    "Delta_s = Delta_p  # Two photon resonance\n",
    "\n",
    "Omega_p = 0.005 * e * a0 * np.sqrt(2*c*55e-3) / hbar \n",
    "Omega_s = 0.018 * e * a0 * np.sqrt(2*c*4e-3) / hbar\n",
    "\n",
    "Omega_stdev_s = 10 / Omega_s\n",
    "Omega_stdev_p = 10 / Omega_p\n",
    "\n",
    "Omega_st_center = 4*Omega_stdev_s\n",
    "Omega_pt_center = Omega_st_center + (117 / 50)*Omega_stdev_p\n",
    "\n",
    "psi0 = qt.basis(3, 0)\n",
    "ts = np.linspace(0, Omega_pt_center + 4*Omega_stdev_p, 2000)\n",
    "\n",
    "stokes_func = get_gaussian(Omega_s, Omega_st_center, Omega_stdev_s)\n",
    "pump_func = get_gaussian(Omega_p, Omega_pt_center, Omega_stdev_p)\n",
    "\n",
    "H = get_Hamiltonian(\n",
    "    ts,\n",
    "    Delta_p,\n",
    "    Delta_s,\n",
    "    Hs_coeff=stokes_func,\n",
    "    Hp_coeff=pump_func,\n",
    "    phase_noise=None,\n",
    ")\n",
    "output = qt.mesolve(H, psi0, ts, e_ops=e_ops)\n",
    "\n",
    "num_ts = 50\n",
    "ts_energies = [ts[j] for j in range(len(ts)) if j%int(np.ceil(len(ts) / num_ts)) == 0]\n",
    "Eg, Em, Ee = np.zeros(num_ts), np.zeros(num_ts), np.zeros(num_ts)\n",
    "for i in range(len(ts_energies)):\n",
    "    H = get_Hamiltonian_Qobj(\n",
    "        ts_energies[i],\n",
    "        Delta_p,\n",
    "        Delta_s,\n",
    "        Hs_coeff=stokes_func,\n",
    "        Hp_coeff=pump_func,\n",
    "        phase_noise=None,\n",
    "    )\n",
    "    Eg[i], Em[i], Ee[i] = H.eigenenergies()\n",
    "energies = [Eg, Em, Ee]\n",
    "\n",
    "fig, ax = plt.subplots(2, 1, figsize=(2.5, 2.5), sharex=True)\n",
    "energy_labels = [r\"$\\epsilon_-$\", r\"$\\epsilon_0$\", r\"$\\epsilon_+$\"]\n",
    "\n",
    "ax[0].plot(ts/1e-6, stokes_func(ts)/1e6, label=f\"Stokes\", color=colors[6], linestyle='--', linewidth=2., alpha=0.75)\n",
    "ax[0].plot(ts/1e-6, pump_func(ts)/1e6, label=f\"Pump\", color=colors[6], linestyle='-', linewidth=2., alpha=0.75)\n",
    "ax[0].set_ylabel(\"Rabi Frequencies\\n(MHz)\")\n",
    "ax[0].legend(bbox_to_anchor=(1.52, 1.05))\n",
    "\n",
    "ax[1].plot(ts/1e-6, output.expect[0], label=r\"$|$\" + f\"1\" + r\"$\\rangle$\", color=colors[0], linewidth=1.7, alpha=0.75)\n",
    "ax[1].plot(ts/1e-6, output.expect[1], label=r\"$|$\" + f\"2\" + r\"$\\rangle$\", color=colors[1], linewidth=1.7, alpha=0.75)\n",
    "ax[1].plot(ts/1e-6, output.expect[2], label=r\"$|$\" + f\"3\" + r\"$\\rangle$\", color=colors[2], linewidth=1.7, alpha=0.75)\n",
    "\n",
    "# ax[3].plot(ts_energies, energies[2], label=energy_labels[2], color=colors[3], linewidth=1.7, alpha=0.75)\n",
    "# ax[3].plot(ts_energies, energies[1], label=energy_labels[1], color=colors[4], linewidth=1.7, alpha=0.75)\n",
    "# ax[3].plot(ts_energies, energies[0], label=energy_labels[0], color=colors[5], linewidth=1.7, alpha=0.75)\n",
    "\n",
    "ax[1].set_ylabel(\"Populations\")\n",
    "ax[1].legend(bbox_to_anchor=(1., 1.05))\n",
    "ax[1].set_xlabel(r\"Time ($\\mu$s)\")\n",
    "# ax[1].set_xticks([0, 100, 200, 300, 400])\n",
    "# ax[2].plot(ts, np.arctan2(pump_np(ts), stokes_np(ts)) * 180 / np.pi, color=\"teal\", linewidth=2.2, alpha=0.75)\n",
    "# ax[2].set_ylabel(\"Mixing\\n\" + r\"Angle $\\theta(t)$\")\n",
    "# ax[2].set_yticks([0, 45, 90])\n",
    "\n",
    "# ax[3].set_ylabel(\"Eigenenergies\")\n",
    "# ax[3].set_xlabel(\"Time\")\n",
    "# ax[3].legend(bbox_to_anchor=(1., 1.05))\n",
    "\n",
    "\n",
    "ax[0].text(-0.33, 0.98, r'(a)', transform=ax[0].transAxes, fontsize=11, color='black', \n",
    "        ha='center', va='center') \n",
    "ax[1].text(-0.33, 0.98, r'(b)', transform=ax[1].transAxes, fontsize=11, color='black', \n",
    "        ha='center', va='center') \n",
    "# ax[2].text(-0.32, 0.98, r'(c)', transform=ax[2].transAxes, fontsize=11, color='black', \n",
    "#         ha='center', va='center') \n",
    "# ax[3].text(-0.32, 0.98, r'(d)', transform=ax[3].transAxes, fontsize=11, color='black', \n",
    "#         ha='center', va='center') \n",
    "\n",
    "plt.show()\n",
    "fig.savefig('img/KRb_parameters.png', dpi=1200)"
   ]
  },
  {
   "cell_type": "code",
   "execution_count": 43,
   "id": "893bb461-eac3-448e-b8d2-51fce9499257",
   "metadata": {},
   "outputs": [
    {
     "name": "stdout",
     "output_type": "stream",
     "text": [
      "Omega_p:  2.31 MHz\n",
      "Omega_s:  2.24 MHz\n",
      "Tau:  4.462 us\n",
      "Distance between peaks:  10.14 us\n",
      "|3>: 0.934\n"
     ]
    }
   ],
   "source": [
    "print(f\"Omega_p: {Omega_p / 1e6 : .2f} MHz\" )\n",
    "print(f\"Omega_s: {Omega_s / 1e6 : .2f} MHz\" )\n",
    "print(f\"Tau: {10/Omega_s / 1e-6 : .3f} us\")\n",
    "print(f\"Distance between peaks: {(117 / 50)*Omega_stdev_p / 1e-6 : .2f} us\")\n",
    "print(f\"|3>: {output.expect[2][-1] :.3f}\")"
   ]
  }
 ],
 "metadata": {
  "kernelspec": {
   "display_name": "Python 3 (ipykernel)",
   "language": "python",
   "name": "python3"
  },
  "language_info": {
   "codemirror_mode": {
    "name": "ipython",
    "version": 3
   },
   "file_extension": ".py",
   "mimetype": "text/x-python",
   "name": "python",
   "nbconvert_exporter": "python",
   "pygments_lexer": "ipython3",
   "version": "3.12.2"
  }
 },
 "nbformat": 4,
 "nbformat_minor": 5
}
